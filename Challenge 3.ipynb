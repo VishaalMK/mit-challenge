{
 "cells": [
  {
   "cell_type": "markdown",
   "metadata": {},
   "source": [
    "### Sieve of Eratosthenes"
   ]
  },
  {
   "cell_type": "code",
   "execution_count": 20,
   "metadata": {
    "collapsed": false
   },
   "outputs": [
    {
     "name": "stdout",
     "output_type": "stream",
     "text": [
      "110589529905\n"
     ]
    }
   ],
   "source": [
    "# From the prime number theorem, the nth prime number could be approximated as\n",
    "# P_n < n(logn + loglogn)\n",
    "# Sieve of Eratosthenes could then be applied to find all\n",
    "# prime numbers up to the upper bound of n(logn + loglogn)\n",
    "\n",
    "import numpy as np\n",
    "from math import log, sqrt\n",
    "\n",
    "n = 123456\n",
    "N = int(round(n * (log(n) + log(log(n)))))\n",
    "\n",
    "prime = [True] * (N+1)\n",
    "for a in range(2, int(round(sqrt(N)+1))):\n",
    "    if prime[a] == True:\n",
    "        i = a ** 2\n",
    "        while i <= N:\n",
    "            prime[i] = False\n",
    "            i += a\n",
    "\n",
    "sum = 0\n",
    "for s in range(2, N+1):\n",
    "    if prime[s] == True:\n",
    "        sum += s\n",
    "\n",
    "print sum"
   ]
  },
  {
   "cell_type": "code",
   "execution_count": null,
   "metadata": {
    "collapsed": true
   },
   "outputs": [],
   "source": []
  }
 ],
 "metadata": {
  "kernelspec": {
   "display_name": "Python 2",
   "language": "python",
   "name": "python2"
  },
  "language_info": {
   "codemirror_mode": {
    "name": "ipython",
    "version": 2
   },
   "file_extension": ".py",
   "mimetype": "text/x-python",
   "name": "python",
   "nbconvert_exporter": "python",
   "pygments_lexer": "ipython2",
   "version": "2.7.12"
  }
 },
 "nbformat": 4,
 "nbformat_minor": 2
}
